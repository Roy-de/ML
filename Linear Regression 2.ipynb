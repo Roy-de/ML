{
 "cells": [
  {
   "attachments": {},
   "cell_type": "markdown",
   "metadata": {},
   "source": [
    "Performing linear regression by writting every single step and formula used to arrive at the answer\n",
    "Linear Regression is a machine learning algorithm based on supervised learning. It performs a regression task. Regression models a target prediction value based on independent variables. It is mostly used for finding out the relationship between variables and forecasting. Different regression models differ based on – the kind of relationship between dependent and independent variables they are considering, and the number of independent variables getting used. There are many names for a regression’s dependent variable.  It may be called an outcome variable, criterion variable, endogenous variable, or regressand.  The independent variables can be called exogenous variables, predictor variables, or regressors.\n",
    "\n",
    "Linear regression is used in many different fields, including finance, economics, and psychology, to understand and predict the behavior of a particular variable. For example, in finance, linear regression might be used to understand the relationship between a company’s stock price and its earnings, or to predict the future value of a currency based on its past performance"
   ]
  },
  {
   "cell_type": "code",
   "execution_count": 1,
   "metadata": {},
   "outputs": [],
   "source": [
    "import numpy as np\n",
    "import matplotlib.pyplot as plt"
   ]
  },
  {
   "cell_type": "code",
   "execution_count": 2,
   "metadata": {},
   "outputs": [],
   "source": [
    "D_Array_X = np.array([0,1,2,3,4,5,6,7,8,9],dtype=np.int32)\n",
    "D_Array_Y = np.array([1,3,2,5,7,8,8,9,10,12],dtype=np.int32)"
   ]
  },
  {
   "attachments": {},
   "cell_type": "markdown",
   "metadata": {},
   "source": [
    "For generality we define X as feature vector ie x = [x_1,x_2,...,x_n] and y as response vector ie y = [y_1,y_2,...y_n] for n observations in our case n = 10"
   ]
  },
  {
   "cell_type": "code",
   "execution_count": 3,
   "metadata": {},
   "outputs": [
    {
     "data": {
      "image/png": "[encoded data removed]",
      "text/plain": [
       "<Figure size 640x480 with 1 Axes>"
      ]
     },
     "metadata": {},
     "output_type": "display_data"
    }
   ],
   "source": [
    "#Scatter plot for our data\n",
    "fig,ax = plt.subplots()\n",
    "ax.scatter(D_Array_X,D_Array_Y)\n",
    "plt.show()"
   ]
  },
  {
   "cell_type": "code",
   "execution_count": 13,
   "metadata": {},
   "outputs": [],
   "source": [
    "class LinearRegression:\n",
    "\n",
    "    \"\"\"Linear Regression using Gradient Descent.\n",
    "    \n",
    "    PARAMETERS\n",
    "    -------------\n",
    "    Learning_rate : Float64\n",
    "    Iter : int (Number of iterations over the training set)\n",
    "    \n",
    "    ATTRIBUTES\n",
    "    -------------\n",
    "    Weight : weights/after fitting the model\n",
    "    Cost : Total error of the model after each iteration\n",
    "    \"\"\"\n",
    "    def __init__(self,Learning_rate= 0.01,Iter=10):\n",
    "        self.Learning_rate =  Learning_rate\n",
    "        self.Iter = Iter\n",
    "\n",
    "    def fit(self,D_Array_X,D_Array_Y):\n",
    "        \"\"\"Fit the training data.\n",
    "        \n",
    "        Parameters\n",
    "        -----------\n",
    "        x : \n",
    "        \"\"\""
   ]
  },
  {
   "cell_type": "code",
   "execution_count": 14,
   "metadata": {},
   "outputs": [
    {
     "data": {
      "text/plain": [
       "6.5"
      ]
     },
     "execution_count": 14,
     "metadata": {},
     "output_type": "execute_result"
    }
   ],
   "source": []
  }
 ],
 "metadata": {
  "kernelspec": {
   "display_name": "Python 3",
   "language": "python",
   "name": "python3"
  },
  "language_info": {
   "codemirror_mode": {
    "name": "ipython",
    "version": 3
   },
   "file_extension": ".py",
   "mimetype": "text/x-python",
   "name": "python",
   "nbconvert_exporter": "python",
   "pygments_lexer": "ipython3",
   "version": "3.9.2"
  },
  "orig_nbformat": 4,
  "vscode": {
   "interpreter": {
    "hash": "916dbcbb3f70747c44a77c7bcd40155683ae19c65e1c03b4aa3499c5328201f1"
   }
  }
 },
 "nbformat": 4,
 "nbformat_minor": 2
}
